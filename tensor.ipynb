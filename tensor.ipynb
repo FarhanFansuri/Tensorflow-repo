{
  "nbformat": 4,
  "nbformat_minor": 0,
  "metadata": {
    "colab": {
      "provenance": [],
      "authorship_tag": "ABX9TyMXfvkK5ZGCCoCKzqWzA14D",
      "include_colab_link": true
    },
    "kernelspec": {
      "name": "python3",
      "display_name": "Python 3"
    },
    "language_info": {
      "name": "python"
    }
  },
  "cells": [
    {
      "cell_type": "markdown",
      "metadata": {
        "id": "view-in-github",
        "colab_type": "text"
      },
      "source": [
        "<a href=\"https://colab.research.google.com/github/FarhanFansuri/Tensorflow-repo/blob/alladin-persson/tensor.ipynb\" target=\"_parent\"><img src=\"https://colab.research.google.com/assets/colab-badge.svg\" alt=\"Open In Colab\"/></a>"
      ]
    },
    {
      "cell_type": "markdown",
      "source": [
        "# Apa itu Tensor\n",
        "Tensor adalah array multidimensi"
      ],
      "metadata": {
        "id": "iiylTlkasmdB"
      }
    },
    {
      "cell_type": "code",
      "execution_count": 1,
      "metadata": {
        "id": "i12nejJ4sXAH"
      },
      "outputs": [],
      "source": [
        "import tensorflow as tf"
      ]
    },
    {
      "cell_type": "markdown",
      "source": [
        "## Initialization of tensor"
      ],
      "metadata": {
        "id": "B1kQdXgDs8k3"
      }
    },
    {
      "cell_type": "code",
      "source": [
        "x = tf.constant(4,dtype=tf.int16, shape=(1,1))\n",
        "print(x)\n",
        "\n",
        "y = tf.constant([[1,2,3],[4,5,6]], dtype=tf.int16)\n",
        "print(y)\n",
        "\n",
        "z = tf.ones((3,3))\n",
        "print(z)\n",
        "\n",
        "a = tf.zeros((2,3))\n",
        "print(a)\n",
        "\n",
        "i = tf.eye(3)\n",
        "print(i)\n",
        "\n",
        "r = tf.random.normal((3,3),mean = 0.0, stddev=1.0)\n",
        "print(r)\n",
        "\n",
        "rang = tf.range(6)\n",
        "print(rang)\n",
        "\n",
        "c = tf.cast(rang,dtype=tf.float32)\n",
        "print(c)"
      ],
      "metadata": {
        "colab": {
          "base_uri": "https://localhost:8080/"
        },
        "id": "5HNMYnHStAr4",
        "outputId": "5bf221eb-3b94-4f9c-e50f-dd20c7505d26"
      },
      "execution_count": 15,
      "outputs": [
        {
          "output_type": "stream",
          "name": "stdout",
          "text": [
            "tf.Tensor([[4]], shape=(1, 1), dtype=int16)\n",
            "tf.Tensor(\n",
            "[[1 2 3]\n",
            " [4 5 6]], shape=(2, 3), dtype=int16)\n",
            "tf.Tensor(\n",
            "[[1. 1. 1.]\n",
            " [1. 1. 1.]\n",
            " [1. 1. 1.]], shape=(3, 3), dtype=float32)\n",
            "tf.Tensor(\n",
            "[[0. 0. 0.]\n",
            " [0. 0. 0.]], shape=(2, 3), dtype=float32)\n",
            "tf.Tensor(\n",
            "[[1. 0. 0.]\n",
            " [0. 1. 0.]\n",
            " [0. 0. 1.]], shape=(3, 3), dtype=float32)\n",
            "tf.Tensor(\n",
            "[[ 0.16465136 -0.7339975   1.9737052 ]\n",
            " [-0.23461331 -0.33044845 -0.62707347]\n",
            " [-0.7601108  -0.5068668   0.6418268 ]], shape=(3, 3), dtype=float32)\n",
            "tf.Tensor([0 1 2 3 4 5], shape=(6,), dtype=int32)\n",
            "tf.Tensor([0. 1. 2. 3. 4. 5.], shape=(6,), dtype=float32)\n"
          ]
        }
      ]
    },
    {
      "cell_type": "markdown",
      "source": [
        "## mathematical operations"
      ],
      "metadata": {
        "id": "a3hRbvruwrUo"
      }
    },
    {
      "cell_type": "code",
      "source": [
        "x = tf.constant([1,2,3])\n",
        "y = tf.constant([9,8,7])\n",
        "\n",
        "z = tf.add(x,y)\n",
        "print(z)"
      ],
      "metadata": {
        "colab": {
          "base_uri": "https://localhost:8080/"
        },
        "id": "BIY8A26YwuA7",
        "outputId": "0b7fee7d-f1aa-4ae6-c33c-ec70f83d4720"
      },
      "execution_count": 17,
      "outputs": [
        {
          "output_type": "stream",
          "name": "stdout",
          "text": [
            "tf.Tensor([10 10 10], shape=(3,), dtype=int32)\n"
          ]
        }
      ]
    }
  ]
}